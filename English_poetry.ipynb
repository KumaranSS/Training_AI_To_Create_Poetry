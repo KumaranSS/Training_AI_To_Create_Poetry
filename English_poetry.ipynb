{
  "nbformat": 4,
  "nbformat_minor": 0,
  "metadata": {
    "colab": {
      "name": "English poetry",
      "provenance": [],
      "authorship_tag": "ABX9TyPEJPYs2Vd/xx5O3zTg6dqW",
      "include_colab_link": true
    },
    "kernelspec": {
      "name": "python3",
      "display_name": "Python 3"
    }
  },
  "cells": [
    {
      "cell_type": "markdown",
      "metadata": {
        "id": "view-in-github",
        "colab_type": "text"
      },
      "source": [
        "<a href=\"https://colab.research.google.com/github/KumaranSS/Training_AI_To_Create_Poetry/blob/master/English_poetry.ipynb\" target=\"_parent\"><img src=\"https://colab.research.google.com/assets/colab-badge.svg\" alt=\"Open In Colab\"/></a>"
      ]
    },
    {
      "cell_type": "code",
      "metadata": {
        "id": "_B-6rQpE-BH7",
        "colab_type": "code",
        "outputId": "04d0afa0-ea26-40f0-8b06-66354d4475cd",
        "colab": {
          "resources": {
            "http://localhost:8080/nbextensions/google.colab/files.js": {
              "data": "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",
              "ok": true,
              "headers": [
                [
                  "content-type",
                  "application/javascript"
                ]
              ],
              "status": 200,
              "status_text": ""
            }
          },
          "base_uri": "https://localhost:8080/",
          "height": 74
        }
      },
      "source": [
        "from google.colab import files\n",
        "uploaded = files.upload()"
      ],
      "execution_count": 0,
      "outputs": [
        {
          "output_type": "display_data",
          "data": {
            "text/html": [
              "\n",
              "     <input type=\"file\" id=\"files-69a54d58-160d-4dcf-909b-4b62232ad716\" name=\"files[]\" multiple disabled />\n",
              "     <output id=\"result-69a54d58-160d-4dcf-909b-4b62232ad716\">\n",
              "      Upload widget is only available when the cell has been executed in the\n",
              "      current browser session. Please rerun this cell to enable.\n",
              "      </output>\n",
              "      <script src=\"/nbextensions/google.colab/files.js\"></script> "
            ],
            "text/plain": [
              "<IPython.core.display.HTML object>"
            ]
          },
          "metadata": {
            "tags": []
          }
        },
        {
          "output_type": "stream",
          "text": [
            "Saving al-green.txt to al-green.txt\n"
          ],
          "name": "stdout"
        }
      ]
    },
    {
      "cell_type": "code",
      "metadata": {
        "id": "cqvQ6QeE-ef1",
        "colab_type": "code",
        "colab": {}
      },
      "source": [
        "import tensorflow as tf\n",
        "\n",
        "from tensorflow.keras.preprocessing.sequence import pad_sequences\n",
        "from tensorflow.keras.layers import Embedding, LSTM, Dense, Bidirectional\n",
        "from tensorflow.keras.preprocessing.text import Tokenizer\n",
        "from tensorflow.keras.models import Sequential\n",
        "from tensorflow.keras.optimizers import Adam\n",
        "import numpy as np"
      ],
      "execution_count": 0,
      "outputs": []
    },
    {
      "cell_type": "code",
      "metadata": {
        "id": "U1_CIeya_PjJ",
        "colab_type": "code",
        "outputId": "c9a381ce-8597-4353-86e9-373973e0b6d3",
        "colab": {
          "base_uri": "https://localhost:8080/",
          "height": 71
        }
      },
      "source": [
        "tokenizer = Tokenizer()\n",
        "\n",
        "data = open('al-green.txt').read()\n",
        "\n",
        "corpus = data.lower().split(\"\\n\")\n",
        "\n",
        "tokenizer.fit_on_texts(corpus)\n",
        "total_words = len(tokenizer.word_index) + 1\n",
        "\n",
        "print(tokenizer.word_index)\n",
        "print(total_words)"
      ],
      "execution_count": 0,
      "outputs": [
        {
          "output_type": "stream",
          "text": [
            "{'you': 1, 'i': 2, 'me': 3, 'to': 4, 'love': 5, 'the': 6, 'and': 7, 'baby': 8, 'my': 9, 'a': 10, 'oh': 11, 'it': 12, 'in': 13, \"i'm\": 14, 'is': 15, 'that': 16, 'for': 17, 'hey': 18, 'la': 19, 'yeah': 20, 'on': 21, 'do': 22, 'all': 23, 'know': 24, 'your': 25, 'can': 26, 'of': 27, 'just': 28, 'no': 29, 'be': 30, \"don't\": 31, 'but': 32, 'say': 33, 'da': 34, 'so': 35, 'time': 36, 'this': 37, 'with': 38, 'let': 39, 'make': 40, \"it's\": 41, 'like': 42, 'want': 43, \"can't\": 44, 'down': 45, 'what': 46, 'see': 47, 'have': 48, 'take': 49, 'been': 50, 'beautiful': 51, 'one': 52, 'good': 53, 'go': 54, 'never': 55, 'about': 56, 'feel': 57, 'now': 58, 'how': 59, \"i've\": 60, 'get': 61, 'everything': 62, 'away': 63, 'more': 64, 'will': 65, 'come': 66, 'we': 67, 'here': 68, 'hold': 69, 'got': 70, \"let's\": 71, \"you're\": 72, 'if': 73, 'way': 74, 'happiness': 75, 'free': 76, 'thing': 77, 'stay': 78, 'tell': 79, 'nobody': 80, 'up': 81, 'going': 82, 'by': 83, 'long': 84, 'gonna': 85, 'wanna': 86, 'fire': 87, 'when': 88, 'stop': 89, 'help': 90, 'there': 91, \"i'll\": 92, 'he': 93, \"i'd\": 94, 'loving': 95, 'why': 96, 'heart': 97, 'through': 98, 'am': 99, \"ain't\": 100, 'right': 101, 'need': 102, 'are': 103, 'much': 104, 'not': 105, 'life': 106, 'still': 107, 'too': 108, 'lay': 109, 'together': 110, 'ever': 111, 'over': 112, 'from': 113, 'girl': 114, 'out': 115, 'jesus': 116, 'our': 117, 'thank': 118, 'or': 119, 'at': 120, 'happy': 121, \"won't\": 122, 'yes': 123, 'ya': 124, 'things': 125, 'hand': 126, 'road': 127, 'full': 128, 'tired': 129, 'keep': 130, 'alright': 131, 'magic': 132, 'home': 133, 'man': 134, 'simply': 135, 'mine': 136, 'god': 137, 'cry': 138, 'its': 139, 'belle': 140, 'around': 141, 'dance': 142, 'mind': 143, 'call': 144, 'chorus': 145, 'okay': 146, 'times': 147, 'world': 148, 'standing': 149, 'sha': 150, 'fall': 151, 'rain': 152, 'please': 153, 'day': 154, \"waitin'\": 155, 'would': 156, 'being': 157, 'alone': 158, 'as': 159, 'back': 160, 'night': 161, 'something': 162, 'understand': 163, 'funny': 164, 'could': 165, 'said': 166, 'where': 167, 'arms': 168, 'real': 169, 'had': 170, 'did': 171, \"that's\": 172, \"there's\": 173, 'tonight': 174, 'wrong': 175, 'soul': 176, 'waiting': 177, 'always': 178, 'ah': 179, \"rainin'\": 180, 'fly': 181, 'was': 182, 'nothing': 183, 'only': 184, 'every': 185, 'leave': 186, 'ooh': 187, \"lovin'\": 188, 'think': 189, 'told': 190, 'found': 191, 'somebody': 192, 'seems': 193, 'incomprehensible': 194, 'true': 195, 'remember': 196, 'wild': 197, 'guilty': 198, 'forever': 199, 'whether': 200, 'power': 201, 'look': 202, 'believe': 203, 'gotta': 204, \"you've\": 205, 'aw': 206, 'cause': 207, 'bad': 208, 'some': 209, 'turn': 210, 'broken': 211, 'wait': 212, 'really': 213, \"we'll\": 214, 'other': 215, 'walk': 216, 'babe': 217, 'than': 218, \"'cause\": 219, 'joy': 220, 'mend': 221, 'even': 222, 'sometimes': 223, 'has': 224, 'morning': 225, \"'bout\": 226, 'feeling': 227, 'fun': 228, 'give': 229, 'married': 230, 'trying': 231, \"everything's\": 232, \"he's\": 233, 'everybody': 234, 'find': 235, 'people': 236, 'live': 237, 'fix': 238, 'sure': 239, 'speed': 240, 'sing': 241, \"you'll\": 242, \"we've\": 243, 'then': 244, 'us': 245, 'days': 246, 'makes': 247, 'again': 248, 'gone': 249, 'show': 250, 'put': 251, 'sweet': 252, 'him': 253, 'holding': 254, \"what's\": 255, 'lord': 256, 'talk': 257, 'must': 258, 'little': 259, 'change': 260, 'ohh': 261, 'since': 262, 'sun': 263, 'round': 264, \"didn't\": 265, 'years': 266, 'explain': 267, 'eyes': 268, 'same': 269, 'keeps': 270, 'name': 271, 'die': 272, 'an': 273, 'blessed': 274, 'worry': 275, \"doin'\": 276, 'end': 277, 'hooked': 278, 'sad': 279, 'ha': 280, 'tears': 281, 'late': 282, 'next': 283, 'desire': 284, 'she': 285, 'well': 286, 'they': 287, 'another': 288, 'lonely': 289, \"wouldn't\": 290, 'listen': 291, 'carry': 292, 'ask': 293, 'best': 294, 'done': 295, 'such': 296, 'glad': 297, 'ought': 298, 'reason': 299, 'try': 300, 'repeat': 301, 'yours': 302, 'though': 303, 'myself': 304, 'wrapped': 305, 'minute': 306, 'each': 307, 'moan': 308, \"sho'\": 309, \"'nuff\": 310, 'these': 311, 'darling': 312, 'matter': 313, 'choose': 314, 'trust': 315, 'mean': 316, 'anything': 317, 'squeeze': 318, 'ow': 319, 'coming': 320, 'set': 321, 'bring': 322, 'troubles': 323, 'friend': 324, 'started': 325, 'cannot': 326, 'head': 327, 'sorry': 328, 'smile': 329, 'shouting': 330, \"movin'\": 331, 'making': 332, 'train': 333, 'new': 334, \"you'd\": 335, 'tomorrow': 336, 'win': 337, 'own': 338, 'dreams': 339, 'wonder': 340, 'thinking': 341, \"talkin'\": 342, 'knows': 343, 'river': 344, 'forget': 345, 'burning': 346, 'hear': 347, 'goes': 348, 'before': 349, 'until': 350, 'whole': 351, 'last': 352, 'crazy': 353, 'comfort': 354, \"feelin'\": 355, 'made': 356, 'hard': 357, 'slips': 358, 'ways': 359, 'giving': 360, \"c'mon\": 361, \"layin'\": 362, 'friends': 363, \"'cos\": 364, 'tender': 365, 'her': 366, 'son': 367, 'whatever': 368, 'break': 369, 'living': 370, 'shining': 371, 'word': 372, 'guess': 373, 'phone': 374, \"thinkin'\": 375, 'wash': 376, 'till': 377, 'into': 378, 'water': 379, 'his': 380, 'leaving': 381, \"life's\": 382, 'lady': 383, 'stand': 384, \"'round\": 385, 'better': 386, 'drive': 387, 'anyway': 388, 'savior': 389, 'strengthen': 390, 'willing': 391, 'aid': 392, 'house': 393, 'guns': 394, 'song': 395, 'share': 396, 'swear': 397, 'start': 398, 'write': 399, 'street': 400, 'story': 401, 'thought': 402, 'bright': 403, 'saying': 404, 'deep': 405, 'inside': 406, 'body': 407, 'looking': 408, 'bye': 409, \"we're\": 410, 'along': 411, 'who': 412, 'sky': 413, \"livin'\": 414, 'apart': 415, \"nothing's\": 416, \"man's\": 417, 'destiny': 418, 'doo': 419, 'strong': 420, \"woman's\": 421, 'watch': 422, 'brand': 423, 'spend': 424, 'gether': 425, 'sorrow': 426, 'falling': 427, 'loser': 428, 'soon': 429, 'honey': 430, 'wanting': 431, 'dream': 432, \"love'll\": 433, 'early': 434, 'hmm': 435, 'heaven': 436, 'after': 437, 'money': 438, 'hide': 439, 'whenever': 440, 'pain': 441, 'sit': 442, 'touch': 443, 'slowly': 444, 'dear': 445, 'else': 446, 'fooling': 447, 'came': 448, 'today': 449, 'might': 450, 'wipe': 451, 'fight': 452, 'gets': 453, 'bones': 454, 'band': 455, 'pay': 456, 'old': 457, 'rise': 458, 'everyday': 459, 'halo': 460, 'meant': 461, 'thankful': 462, 'maybe': 463, 'depend': 464, 'divine': 465, 'met': 466, 'cup': 467, 'teach': 468, 'hanging': 469, 'move': 470, 'boy': 471, 'gave': 472, 'wings': 473, 'whoa': 474, 'should': 475, 'face': 476, 'ho': 477, 'lips': 478, 'meet': 479, 'light': 480, 'close': 481, \"she's\": 482, 'young': 483, 'flying': 484, 'running': 485, 'untrue': 486, 'staying': 487, \"here's\": 488, 'oughta': 489, 'fact': 490, 'uh': 491, 'greatest': 492, \"heart's\": 493, 'three': 494, \"o'clock\": 495, 'someone': 496, 'victory': 497, 'near': 498, 'tried': 499, \"haven't\": 500, 'seen': 501, 'feet': 502, 'ground': 503, 'them': 504, 'pray': 505, \"he'll\": 506, 'sea': 507, 'open': 508, \"comin'\": 509, 'perfect': 510, 'floor': 511, 'tight': 512, 'soothe': 513, 'dark': 514, 'honest': 515, 'once': 516, 'heh': 517, 'lil': 518, 'were': 519, 'party': 520, 'kick': 521, 'welfare': 522, 'important': 523, 'lead': 524, 'car': 525, 'proud': 526, 'heavenly': 527, 'side': 528, 'sometime': 529, 'talking': 530, 'waste': 531, 'hello': 532, 'fine': 533, 'yesterday': 534, 'salvation': 535, 'big': 536, 'outta': 537, 'yourself': 538, 'lost': 539, 'smiling': 540, 'table': 541, 'bags': 542, 'far': 543, 'easy': 544, 'pride': 545, 'country': 546, 'evening': 547, 'almighty': 548, 'place': 549, 'build': 550, 'decide': 551, 'hands': 552, 'losing': 553, 'hurry': 554, \"givin'\": 555, \"prayin'\": 556, \"workin'\": 557, 'fade': 558, 'window': 559, 'x2': 560, 'hoped': 561, 'getting': 562, \"day's\": 563, 'work': 564, 'peace': 565, 'play': 566, 'poor': 567, 'aww': 568, 'enough': 569, 'woman': 570, 'pillow': 571, 'warm': 572, 'begun': 573, 'plane': 574, 'lie': 575, 'walking': 576, 'music': 577, 'horn': 578, 'blow': 579, 'shall': 580, 'thou': 581, 'mystery': 582, 'eiffel': 583, 'tower': 584, 'blowing': 585, 'wind': 586, 'younger': 587, 'breeze': 588, 'rustles': 589, 'trees': 590, 'misty': 591, 'memories': 592, 'natural': 593, \"cryin'\": 594, 'needing': 595, 'proven': 596, 'awh': 597, \"wonderin'\": 598, \"something's\": 599, \"someone's\": 600, \"walkin'\": 601, 'moans': 602, 'spending': 603, 'changes': 604, 'hair': 605, 'sixteen': 606, 'turning': 607, 'fool': 608, \"somethin'\": 609, 'highway': 610, 'rivers': 611, 'thousand': 612, 'flower': 613, 'pick': 614, 'grow': 615, 'sake': 616, 'devotion': 617, 'closer': 618, 'anybody': 619, 'having': 620, 'town': 621, 'sin': 622, 'vain': 623, 'forgive': 624, 'rock': 625, 'off': 626, 'meaning': 627, 'self': 628, 'yea': 629, 'movie': 630, \"mornin'\": 631, \"kissin'\": 632, 'criticize': 633, 'bother': 634, 'heartaches': 635, 'discouraged': 636, 'trouble': 637, 'hope': 638, 'heard': 639, \"wasn't\": 640, 'l': 641, 'o': 642, 'v': 643, 'e': 644, 'freeing': 645, 'roll': 646, 'able': 647, \"couldn't\": 648, 'helping': 649, 'prayer': 650, 'save': 651, 'wish': 652, 'reggae': 653, 'ends': 654, 'begging': 655, 'broke': 656, 'half': 657, \"make's\": 658, \"helpin'\": 659, 'joe': 660, 'explosion': 661, 'tough': 662, 'yourselves': 663, 'ride': 664, 'because': 665, 'shout': 666, 'almost': 667, 'eternal': 668, 'used': 669, 'stepped': 670, 'worth': 671, 'singing': 672, \"takin'\": 673, \"packin'\": 674, \"sayin'\": 675, 'safe': 676, 'x3': 677, 'blue': 678, 'land': 679, 'powers': 680, 'possess': 681, 'key': 682, 'buy': 683, 'working': 684, \"they're\": 685, 'telling': 686, 'low': 687, 'goodbye': 688, 'truth': 689, 'filled': 690, 'does': 691, 'quite': 692, 'kiss': 693, 'hour': 694, 'afraid': 695, 'brother': 696, 'knees': 697, 'cold': 698, 'fears': 699, 'expect': 700, 'lot': 701, 'satisfy': 702, 'city': 703, 'game': 704, 'blame': 705, 'dog': 706, 'darkness': 707, 'gather': 708, 'forsaken': 709, 'angel': 710, 'door': 711, 'greet': 712, 'heavy': 713, 'belong': 714, 'bread': 715, \"why'd\": 716, 'doubt': 717, 'sir': 718, 'whisper': 719, 'raindrops': 720, 'softly': 721, 'against': 722, 'condemn': 723, 'cast': 724, 'aside': 725, 'foolish': 726, 'probation': 727, 'infatuation': 728, 'advice': 729, 'twice': 730, 'lotta': 731, 'nights': 732, 'girls': 733, 'shoes': 734, \"burnin'\": 735, 'twenty': 736, 'under': 737, 'upper': 738, 'may': 739, 'green': 740, 'surely': 741, 'goodness': 742, 'kindness': 743, 'follow': 744, 'al': 745, 'dwell': 746, 'thy': 747, 'agony': 748, 'fill': 749, 'silver': 750, 'gold': 751, 'words': 752, 'clap': 753, 'ahead': 754, 'stardust': 755, 'hurt': 756, 'stole': 757, 'cigarettes': 758, 'nor': 759, 'yet': 760, 'cleanse': 761, 'treated': 762, 'notion': 763, 'regret': 764, 'tease': 765, 'candles': 766, 'wall': 767, 'biggest': 768, 'dip': 769, 'fixed': 770, 'october': 771, 'affection': 772, 'wherever': 773, 'hungered': 774, 'flow': 775, 'sigh': 776, 'ten': 777, 'ring': 778, 'finger': 779, 'linger': 780, 'roses': 781, 'ups': 782, 'downs': 783, 'hits': 784, 'year': 785, 'hundred': 786, 'adore': 787, 'mile': 788, 'changing': 789, 'care': 790, 'fuss': 791, \"creatin'\": 792, 'sitting': 793, 'wasting': 794, 'idea': 795, 'playing': 796, 'settle': 797, 'felt': 798, 'huh': 799, 'yield': 800, 'temptation': 801, 'yielding': 802, 'others': 803, 'manfully': 804, 'onward': 805, 'passions': 806, 'subdue': 807, 'heal': 808, 'shun': 809, 'evil': 810, 'companions': 811, 'language': 812, 'disdain': 813, \"god's\": 814, 'reverence': 815, 'thoughtful': 816, 'kindhearted': 817, 'overnight': 818, 'sense': 819, 'very': 820, 'yeh': 821, 'verse': 822, 'hot': 823, 'bit': 824, 'moving': 825, 'weekend': 826, 'thugs': 827, 'punks': 828, 'any': 829, 'type': 830, 'run': 831, 'president': 832, 'rent': 833, 'shuttin': 834, 'eating': 835, 'peoples': 836, 'plates': 837, 'their': 838, 'tellin': 839, 'police': 840, 'records': 841, 'exist': 842, 'christmas': 843, 'list': 844, 'gc': 845, 'workin': 846, 'millionaires': 847, 'lives': 848, 'without': 849, 'video': 850, 'radio': 851, 'magazines': 852, 'screens': 853, 'hovering': 854, 'oughtta': 855, \"evenin'\": 856, 'desirable': 857, \"huggin'\": 858, \"squeezin'\": 859, 'burdens': 860, 'seeing': 861, 'father': 862, 'kind': 863, 'brighten': 864, 'happily': 865, 'realize': 866, 'guy': 867, \"how's\": 868, 'somewhere': 869, 'entire': 870, 'slipped': 871, 'decided': 872, 'appeared': 873, 'positively': 874, 'main': 875, 'apple': 876, 'beat': 877, 'strange': 878, 'heavens': 879, 'wheel': 880, 'glory': 881, 'mad': 882, 'fella': 883, 'measured': 884, 'sign': 885, 'knew': 886, 'desperately': 887, 'drives': 888, 'past': 889, 'couple': 890, 'while': 891, 'cherish': 892, 'behind': 893, 'reach': 894, 'believes': 895, 'medication': 896, 'disregarding': 897, 'lucky': 898, 'charms': 899, 'chauffeur': 900, 'noon': 901, 'flowing': 902, 'thang': 903, 'edge': 904, 'begins': 905, 'pays': 906, 'somehow': 907, 'praying': 908, 'turned': 909, 'knocked': 910, 'cant': 911, \"we'd\": 912, 'mighty': 913, 'crossed': 914, 'laughter': 915, 'sound': 916, 'quieted': 917, 'planning': 918, \"could've\": 919, 'act': 920, 'naturally': 921, \"other's\": 922, \"surprisin'\": 923, 'brought': 924, 'thus': 925, 'many': 926, 'drunken': 927, 'bars': 928, 'star': 929, 'brighter': 930, 'daytime': 931, 'nighttime': 932, 'praise': 933, 'solid': 934, 'took': 935, 'muddy': 936, 'clay': 937, 'plenty': 938, 'above': 939, 'justify': 940, 'king': 941, 'gray': 942, 'castle': 943, 'single': 944, 'grain': 945, 'sand': 946, 'ship': 947, 'sail': 948, 'dry': 949, 'bird': 950, 'raging': 951, 'flood': 952, 'seasons': 953, 'waving': 954, 'most': 955, 'unable': 956, 'unimportant': 957, 'tryin': 958, \"somebody'd\": 959, 'number': 960, 'awful': 961, 'mm': 962, 'letter': 963, \"everyone's\": 964, 'rushing': 965, 'including': 966, 'fast': 967, \"it'd\": 968, 'slow': 969, 'inclined': 970, 'agree': 971, 'million': 972, 'ideas': 973, \"leavin'\": 974, \"goin'\": 975, 'nowhere': 976, \"causin'\": 977, 'convince': 978, 'lemme': 979, 'changed': 980, 'missing': 981, 'showed': 982, 'smoke': 983, 'stacks': 984, 'signal': 985, 'pane': 986, 'midnight': 987, 'sashes': 988, 'born': 989, 'tent': 990, 'beyond': 991, 'downtown': 992, 'hang': 993, 'winds': 994, \"knockin'\": 995, 'driving': 996, 'stood': 997, 'mr': 998, 'endure': 999, 'shame': 1000, \"i'ma\": 1001, 'guitar': 1002, 'everywhere': 1003, 'emotion': 1004, 'endless': 1005, 'complete': 1006, 'raise': 1007, 'thick': 1008, 'thin': 1009, \"love's\": 1010, 'quit': 1011, 'consuming': 1012, 'deserve': 1013, 'acting': 1014, 'foolishly': 1015, 'already': 1016, 'dove': 1017, \"somebody's\": 1018, 'x4': 1019, 'repeats': 1020, 'hurts': 1021, 'aah': 1022, \"drivin'\": 1023, \"knowin'\": 1024, 'shot': 1025, 'rings': 1026, \"mother's\": 1027, 'child': 1028, 'fallen': 1029, 'streets': 1030, 'anger': 1031, 'heartbreak': 1032, 'ease': 1033, 'wicked': 1034, 'shade': 1035, 'pity': 1036, 'price': 1037, 'violence': 1038, 'responsibility': 1039, 'seize': 1040, 'knowing': 1041, 'prize': 1042, 'answer': 1043, 'stake': 1044, 'points': 1045, 'eat': 1046, 'takes': 1047, 'hop': 1048, 'woo': 1049, 'five': 1050, 'rush': 1051, 'daylight': 1052, 'leaves': 1053, 'room': 1054, 'traffic': 1055, 'favorite': 1056, 'coffee': 1057, 'shop': 1058, \"ya'll\": 1059, \"doesn't\": 1060, \"women's\": 1061, 'mixed': 1062, 'taking': 1063, \"weren't\": 1064, 'learned': 1065, 'calling': 1066, 'died': 1067, 'telephone': 1068, 'shamed': 1069, 'use': 1070, \"'em\": 1071, 'sleep': 1072, 'beg': 1073, 'lend': 1074, 'orange': 1075, 'shades': 1076, 'white': 1077, 'treat': 1078, 'moves': 1079, 'rearrange': 1080, 'mocking': 1081, 'somethings': 1082, 'remain': 1083, 'gain': 1084, 'feels': 1085, 'refrain': 1086, \"don't'\": 1087, 'bridges': 1088, 'gon': 1089, \"they'll\": 1090, 'severance': 1091, 'rolling': 1092, 'mines': 1093, 'grapevine': 1094, \"blame's\": 1095, \"y'all\": 1096, 'crime': 1097, 'deceive': 1098, 'dare': 1099, 'beauti': 1100, 'trials': 1101, 'says': 1102, \"'i'm\": 1103, \"way'\": 1104, \"father's\": 1105, 'pack': 1106, 'happen': 1107, \"jesus'\": 1108, 'babies': 1109, 'shut': 1110, 'tighter': 1111, 'claim': 1112, \"boy's\": 1113, 'rich': 1114, 'brings': 1115, 'news': 1116, 'lights': 1117, 'shepherd': 1118, 'pastures': 1119, 'leads': 1120, 'beside': 1121, 'waters': 1122, \"restore'th\": 1123, 'guides': 1124, 'path': 1125, 'righteousness': 1126, \"name's\": 1127, 'valley': 1128, 'shadow': 1129, 'death': 1130, 'fear': 1131, 'art': 1132, 'rod': 1133, 'staff': 1134, 'preparest': 1135, 'presence': 1136, 'enemies': 1137, 'anointest': 1138, 'oil': 1139, \"cup's\": 1140, 'overflowing': 1141, 'lose': 1142, 'control': 1143, 'bless': 1144, 'superstar': 1145, 'suitor': 1146, 'lawyer': 1147, 'ecstasy': 1148, 'impossible': 1149, 'bulb': 1150, 'bank': 1151, 'account': 1152, 'corner': 1153, 'bigger': 1154, 'mercedes': 1155, 'volkswagen': 1156, 'happening': 1157, 'slavery': 1158, 'trauma': 1159, 'children': 1160, 'um': 1161, 'survive': 1162, 'tear': 1163, 'upon': 1164, 'shoulder': 1165, 'mix': 1166, 'loud': 1167, \"rustlin'\": 1168, \"tuslin'\": 1169, 'job': 1170, 'yonder': 1171, 'sets': 1172, 'aglow': 1173, 'kinda': 1174, 'angels': 1175, 'shines': 1176, 'forevermore': 1177, 'pair': 1178, 'means': 1179, 'ago': 1180, 'mother': 1181, 'two': 1182, 'four': 1183, 'laugh': 1184, \"'n'\": 1185, \"trouble's\": 1186, 'choir': 1187, 'hearts': 1188, 'souls': 1189, \"singin'\": 1190, 'front': 1191, 'freedom': 1192, 'supposed': 1193, 'studio': 1194, 'design': 1195, 'kissing': 1196, 'squeezing': 1197, 'sunday': 1198, 'step': 1199, 'harm': 1200, 'either': 1201, 'wife': 1202, 'taught': 1203, 'strangest': 1204}\n",
            "1205\n"
          ],
          "name": "stdout"
        }
      ]
    },
    {
      "cell_type": "code",
      "metadata": {
        "id": "hW_Bmh9G_Wu8",
        "colab_type": "code",
        "colab": {}
      },
      "source": [
        "input_sequences = []\n",
        "for line in corpus:\n",
        "\ttoken_list = tokenizer.texts_to_sequences([line])[0]\n",
        "\tfor i in range(1, len(token_list)):\n",
        "\t\tn_gram_sequence = token_list[:i+1]\n",
        "\t\tinput_sequences.append(n_gram_sequence)\n",
        "\n",
        "# pad sequences \n",
        "max_sequence_len = max([len(x) for x in input_sequences])\n",
        "input_sequences = np.array(pad_sequences(input_sequences, maxlen=max_sequence_len, padding='pre'))\n",
        "\n",
        "# create predictors and label\n",
        "xs, labels = input_sequences[:,:-1],input_sequences[:,-1]\n",
        "\n",
        "ys = tf.keras.utils.to_categorical(labels, num_classes=total_words)"
      ],
      "execution_count": 0,
      "outputs": []
    },
    {
      "cell_type": "code",
      "metadata": {
        "id": "asXDPW9K_aHk",
        "colab_type": "code",
        "outputId": "667d65f9-398d-451c-dca6-f7bd5f3f1f40",
        "colab": {
          "base_uri": "https://localhost:8080/",
          "height": 1000
        }
      },
      "source": [
        "\n",
        "model = Sequential()\n",
        "model.add(Embedding(total_words, 100, input_length=max_sequence_len-1))\n",
        "model.add(Bidirectional(LSTM(150)))\n",
        "model.add(Dense(total_words, activation='softmax'))\n",
        "adam = Adam(lr=0.01)\n",
        "model.compile(loss='categorical_crossentropy', optimizer=adam, metrics=['accuracy'])\n",
        "#earlystop = EarlyStopping(monitor='val_loss', min_delta=0, patience=5, verbose=0, mode='auto')\n",
        "history = model.fit(xs, ys, epochs=40, verbose=1)\n",
        "#print model.summary()\n",
        "print(model)"
      ],
      "execution_count": 0,
      "outputs": [
        {
          "output_type": "stream",
          "text": [
            "Epoch 1/40\n",
            "455/455 [==============================] - 33s 74ms/step - loss: 4.9505 - accuracy: 0.1502\n",
            "Epoch 2/40\n",
            "455/455 [==============================] - 34s 74ms/step - loss: 3.5769 - accuracy: 0.3191\n",
            "Epoch 3/40\n",
            "455/455 [==============================] - 34s 74ms/step - loss: 2.8171 - accuracy: 0.4100\n",
            "Epoch 4/40\n",
            "455/455 [==============================] - 34s 76ms/step - loss: 2.3295 - accuracy: 0.4744\n",
            "Epoch 5/40\n",
            "455/455 [==============================] - 34s 75ms/step - loss: 2.0113 - accuracy: 0.5246\n",
            "Epoch 6/40\n",
            "455/455 [==============================] - 35s 76ms/step - loss: 1.7695 - accuracy: 0.5653\n",
            "Epoch 7/40\n",
            "455/455 [==============================] - 34s 75ms/step - loss: 1.6311 - accuracy: 0.5945\n",
            "Epoch 8/40\n",
            "455/455 [==============================] - 34s 75ms/step - loss: 1.5441 - accuracy: 0.6112\n",
            "Epoch 9/40\n",
            "455/455 [==============================] - 34s 76ms/step - loss: 1.4443 - accuracy: 0.6247\n",
            "Epoch 10/40\n",
            "455/455 [==============================] - 34s 75ms/step - loss: 1.3780 - accuracy: 0.6409\n",
            "Epoch 11/40\n",
            "455/455 [==============================] - 35s 77ms/step - loss: 1.3345 - accuracy: 0.6487\n",
            "Epoch 12/40\n",
            "455/455 [==============================] - 37s 81ms/step - loss: 1.2728 - accuracy: 0.6658\n",
            "Epoch 13/40\n",
            "455/455 [==============================] - 37s 82ms/step - loss: 1.2600 - accuracy: 0.6631\n",
            "Epoch 14/40\n",
            "455/455 [==============================] - 35s 78ms/step - loss: 1.2321 - accuracy: 0.6715\n",
            "Epoch 15/40\n",
            "455/455 [==============================] - 35s 78ms/step - loss: 1.1749 - accuracy: 0.6871\n",
            "Epoch 16/40\n",
            "455/455 [==============================] - 35s 78ms/step - loss: 1.1484 - accuracy: 0.6894\n",
            "Epoch 17/40\n",
            "455/455 [==============================] - 34s 76ms/step - loss: 1.1732 - accuracy: 0.6820\n",
            "Epoch 18/40\n",
            "455/455 [==============================] - 35s 76ms/step - loss: 1.2043 - accuracy: 0.6744\n",
            "Epoch 19/40\n",
            "455/455 [==============================] - 35s 77ms/step - loss: 1.1822 - accuracy: 0.6828\n",
            "Epoch 20/40\n",
            "455/455 [==============================] - 35s 76ms/step - loss: 1.1882 - accuracy: 0.6809\n",
            "Epoch 21/40\n",
            "455/455 [==============================] - 34s 75ms/step - loss: 1.2009 - accuracy: 0.6784\n",
            "Epoch 22/40\n",
            "455/455 [==============================] - 34s 75ms/step - loss: 1.2098 - accuracy: 0.6732\n",
            "Epoch 23/40\n",
            "455/455 [==============================] - 34s 75ms/step - loss: 1.1664 - accuracy: 0.6836\n",
            "Epoch 24/40\n",
            "455/455 [==============================] - 34s 74ms/step - loss: 1.1237 - accuracy: 0.6951\n",
            "Epoch 25/40\n",
            "455/455 [==============================] - 34s 74ms/step - loss: 1.0612 - accuracy: 0.7131\n",
            "Epoch 26/40\n",
            "455/455 [==============================] - 33s 72ms/step - loss: 1.1048 - accuracy: 0.7039\n",
            "Epoch 27/40\n",
            "455/455 [==============================] - 32s 71ms/step - loss: 1.1906 - accuracy: 0.6826\n",
            "Epoch 28/40\n",
            "455/455 [==============================] - 33s 72ms/step - loss: 1.1459 - accuracy: 0.6897\n",
            "Epoch 29/40\n",
            "455/455 [==============================] - 33s 73ms/step - loss: 1.1143 - accuracy: 0.6937\n",
            "Epoch 30/40\n",
            "455/455 [==============================] - 33s 73ms/step - loss: 1.0604 - accuracy: 0.7097\n",
            "Epoch 31/40\n",
            "455/455 [==============================] - 33s 74ms/step - loss: 1.1221 - accuracy: 0.6968\n",
            "Epoch 32/40\n",
            "455/455 [==============================] - 34s 75ms/step - loss: 1.2028 - accuracy: 0.6759\n",
            "Epoch 33/40\n",
            "455/455 [==============================] - 34s 74ms/step - loss: 1.1810 - accuracy: 0.6764\n",
            "Epoch 34/40\n",
            "455/455 [==============================] - 34s 74ms/step - loss: 1.0741 - accuracy: 0.7046\n",
            "Epoch 35/40\n",
            "455/455 [==============================] - 34s 75ms/step - loss: 1.0364 - accuracy: 0.7119\n",
            "Epoch 36/40\n",
            "455/455 [==============================] - 34s 74ms/step - loss: 1.0126 - accuracy: 0.7221\n",
            "Epoch 37/40\n",
            "455/455 [==============================] - 34s 75ms/step - loss: 1.0733 - accuracy: 0.7105\n",
            "Epoch 38/40\n",
            "455/455 [==============================] - 34s 75ms/step - loss: 1.1695 - accuracy: 0.6832\n",
            "Epoch 39/40\n",
            "455/455 [==============================] - 34s 75ms/step - loss: 1.1863 - accuracy: 0.6789\n",
            "Epoch 40/40\n",
            "455/455 [==============================] - 35s 76ms/step - loss: 1.1531 - accuracy: 0.6833\n",
            "<tensorflow.python.keras.engine.sequential.Sequential object at 0x7f16a51c20b8>\n"
          ],
          "name": "stdout"
        }
      ]
    },
    {
      "cell_type": "code",
      "metadata": {
        "id": "djsMmtd2_m4f",
        "colab_type": "code",
        "outputId": "6da2e17c-b878-46a2-9d94-cdb136c39bae",
        "colab": {
          "base_uri": "https://localhost:8080/",
          "height": 105
        }
      },
      "source": [
        "seed_text = \"I've got a bad feeling about this\"\n",
        "next_words = 100\n",
        "  \n",
        "for _ in range(next_words):\n",
        "\ttoken_list = tokenizer.texts_to_sequences([seed_text])[0]\n",
        "\ttoken_list = pad_sequences([token_list], maxlen=max_sequence_len-1, padding='pre')\n",
        "\tpredicted = model.predict_classes(token_list, verbose=0)\n",
        "\toutput_word = \"\"\n",
        "\tfor word, index in tokenizer.word_index.items():\n",
        "\t\tif index == predicted:\n",
        "\t\t\toutput_word = word\n",
        "\t\t\tbreak\n",
        "\tseed_text += \" \" + output_word\n",
        "print(seed_text)"
      ],
      "execution_count": 0,
      "outputs": [
        {
          "output_type": "stream",
          "text": [
            "WARNING:tensorflow:From <ipython-input-15-70399a5f93d3>:7: Sequential.predict_classes (from tensorflow.python.keras.engine.sequential) is deprecated and will be removed after 2021-01-01.\n",
            "Instructions for updating:\n",
            "Please use instead:* `np.argmax(model.predict(x), axis=-1)`,   if your model does multi-class classification   (e.g. if it uses a `softmax` last-layer activation).* `(model.predict(x) > 0.5).astype(\"int32\")`,   if your model does binary classification   (e.g. if it uses a `sigmoid` last-layer activation).\n",
            "I've got a bad feeling about this time just try i've tried to understand about a time hanging around of the off of other peoples plates when you're at pay all apart all apart all apart all apart all apart all apart way to me baby yeah mocking down about somethings i want everybody to waste each other's time belle belle get will rainin' all over me i didn't meant it baby you ain't my heart even just begun my night now it hurts me so flower in my broken nobody come on and on yourself you lady do you people start to criticize it ain't no\n"
          ],
          "name": "stdout"
        }
      ]
    },
    {
      "cell_type": "code",
      "metadata": {
        "id": "qkVuAxE4G4Ul",
        "colab_type": "code",
        "colab": {}
      },
      "source": [
        "\n"
      ],
      "execution_count": 0,
      "outputs": []
    },
    {
      "cell_type": "code",
      "metadata": {
        "id": "iPdxulCbG6Rd",
        "colab_type": "code",
        "outputId": "b3f10f2d-6f82-4490-a577-cc44adfcbaef",
        "colab": {
          "base_uri": "https://localhost:8080/",
          "height": 279
        }
      },
      "source": [
        "import matplotlib.pyplot as plt\n",
        "\n",
        "\n",
        "def plot_graphs(history, string):\n",
        "  plt.plot(history.history[string])\n",
        "  plt.xlabel(\"Epochs\")\n",
        "  plt.ylabel(string)\n",
        "  plt.show()\n",
        "plot_graphs(history, 'accuracy')"
      ],
      "execution_count": 0,
      "outputs": [
        {
          "output_type": "display_data",
          "data": {
            "image/png": "[encoded data removed]",
            "text/plain": [
              "<Figure size 432x288 with 1 Axes>"
            ]
          },
          "metadata": {
            "tags": [],
            "needs_background": "light"
          }
        }
      ]
    },
    {
      "cell_type": "code",
      "metadata": {
        "id": "FyTJe1UoHjLk",
        "colab_type": "code",
        "colab": {}
      },
      "source": [
        ""
      ],
      "execution_count": 0,
      "outputs": []
    }
  ]
}